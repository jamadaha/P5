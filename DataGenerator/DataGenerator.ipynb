{
 "cells": [
  {
   "cell_type": "markdown",
   "source": [
    "## Get 2 flows of data"
   ],
   "metadata": {}
  },
  {
   "cell_type": "markdown",
   "source": [
    "### Text files\r\n",
    "\r\n",
    "Move .txt files into the folder DataGenerator/InputText/...\r\n",
    "\r\n",
    "These files should represent a valid letter sequence, not random (If true random possible, then that is fine)\r\n",
    "\r\n",
    "A good way to gather these would be to use non-copyrighted books"
   ],
   "metadata": {}
  },
  {
   "cell_type": "code",
   "execution_count": 1,
   "source": [
    "import os\r\n",
    "\r\n",
    "textPath = \"InputText/\"\r\n",
    "\r\n",
    "if not os.path.isdir(textPath):\r\n",
    "    raise Exception(\"Missing directory \" + textPath)\r\n",
    "\r\n",
    "textFileQueue = os.listdir(textPath)\r\n",
    "textFileStream = open(textPath + textFileQueue[0], 'r', encoding='utf-8')\r\n",
    "textFileQueue.pop(0)"
   ],
   "outputs": [
    {
     "output_type": "execute_result",
     "data": {
      "text/plain": [
       "'alices_adventures_in_wonderland.txt'"
      ]
     },
     "metadata": {},
     "execution_count": 1
    }
   ],
   "metadata": {}
  },
  {
   "cell_type": "markdown",
   "source": [
    "### Handwritten letters\r\n",
    "\r\n",
    "Download mnist data set from https://www.nist.gov/srd/nist-special-database-19, specfically the 'by_class' one\r\n",
    "\r\n",
    "Extract it to Datagenerator/InputLetters/by_class\r\n",
    "\r\n",
    "#### Note:\r\n",
    "\r\n",
    "The indexing of the letters is in hex"
   ],
   "metadata": {}
  },
  {
   "cell_type": "markdown",
   "source": [
    "#### Letter paths"
   ],
   "metadata": {}
  },
  {
   "cell_type": "code",
   "execution_count": 2,
   "source": [
    "letterSuperPath = \"InputLetters/by_class/\"\r\n",
    "\r\n",
    "# check that directory exists\r\n",
    "if not os.path.isdir(letterSuperPath):\r\n",
    "    raise Exception(\"Missing directory \" + letterSuperPath)\r\n",
    "\r\n",
    "letterPath = {}\r\n",
    "\r\n",
    "for i in [*range(65, 91), *range(97, 122)]:\r\n",
    "    letterPath[chr(i)] = {}\r\n",
    "    hexLetter = hex(i).split('x')[-1]\r\n",
    "    letterPath[chr(i)]['hex'] = hexLetter"
   ],
   "outputs": [],
   "metadata": {}
  },
  {
   "cell_type": "markdown",
   "source": [
    "#### Add paths to individual pictures"
   ],
   "metadata": {}
  },
  {
   "cell_type": "code",
   "execution_count": 3,
   "source": [
    "# for each letter (lowercase/uppercase)\r\n",
    "for n in letterPath:\r\n",
    "    letterPath[n]['paths'] = []\r\n",
    "    # for each hsf num\r\n",
    "    for i in range(0, 8):\r\n",
    "        hsfPath = letterSuperPath + letterPath[n]['hex'] + \"/hsf_\" + str(i) + \"/\"\r\n",
    "        if os.path.isdir(hsfPath):\r\n",
    "            pictures = os.listdir(hsfPath)\r\n",
    "            # for each picture in directory\r\n",
    "            for t in pictures:\r\n",
    "                letterPath[n]['paths'].append(hsfPath + t)"
   ],
   "outputs": [],
   "metadata": {}
  },
  {
   "cell_type": "markdown",
   "source": [
    "## Generate CSV file"
   ],
   "metadata": {}
  },
  {
   "cell_type": "markdown",
   "source": [
    "#### Create file"
   ],
   "metadata": {}
  },
  {
   "cell_type": "code",
   "execution_count": 4,
   "source": [
    "csvFile = open('data.csv', 'wt', newline='')\r\n",
    "filewriter = csv.writer(csvFile, delimiter=',')\r\n",
    "filewriter.writerow(['Letter', 'Path'])"
   ],
   "outputs": [
    {
     "output_type": "error",
     "ename": "NameError",
     "evalue": "name 'csv' is not defined",
     "traceback": [
      "\u001b[1;31m---------------------------------------------------------------------------\u001b[0m",
      "\u001b[1;31mNameError\u001b[0m                                 Traceback (most recent call last)",
      "\u001b[1;32m~\\AppData\\Local\\Temp/ipykernel_13128/1626856129.py\u001b[0m in \u001b[0;36m<module>\u001b[1;34m\u001b[0m\n\u001b[0;32m      1\u001b[0m \u001b[0mcsvFile\u001b[0m \u001b[1;33m=\u001b[0m \u001b[0mopen\u001b[0m\u001b[1;33m(\u001b[0m\u001b[1;34m'data.csv'\u001b[0m\u001b[1;33m,\u001b[0m \u001b[1;34m'wt'\u001b[0m\u001b[1;33m,\u001b[0m \u001b[0mnewline\u001b[0m\u001b[1;33m=\u001b[0m\u001b[1;34m''\u001b[0m\u001b[1;33m)\u001b[0m\u001b[1;33m\u001b[0m\u001b[1;33m\u001b[0m\u001b[0m\n\u001b[1;32m----> 2\u001b[1;33m \u001b[0mfilewriter\u001b[0m \u001b[1;33m=\u001b[0m \u001b[0mcsv\u001b[0m\u001b[1;33m.\u001b[0m\u001b[0mwriter\u001b[0m\u001b[1;33m(\u001b[0m\u001b[0mcsvFile\u001b[0m\u001b[1;33m,\u001b[0m \u001b[0mdelimiter\u001b[0m\u001b[1;33m=\u001b[0m\u001b[1;34m','\u001b[0m\u001b[1;33m)\u001b[0m\u001b[1;33m\u001b[0m\u001b[1;33m\u001b[0m\u001b[0m\n\u001b[0m\u001b[0;32m      3\u001b[0m \u001b[0mfilewriter\u001b[0m\u001b[1;33m.\u001b[0m\u001b[0mwriterow\u001b[0m\u001b[1;33m(\u001b[0m\u001b[1;33m[\u001b[0m\u001b[1;34m'Letter'\u001b[0m\u001b[1;33m,\u001b[0m \u001b[1;34m'Path'\u001b[0m\u001b[1;33m]\u001b[0m\u001b[1;33m)\u001b[0m\u001b[1;33m\u001b[0m\u001b[1;33m\u001b[0m\u001b[0m\n",
      "\u001b[1;31mNameError\u001b[0m: name 'csv' is not defined"
     ]
    }
   ],
   "metadata": {}
  },
  {
   "cell_type": "markdown",
   "source": [
    "#### Fill file"
   ],
   "metadata": {}
  },
  {
   "cell_type": "code",
   "execution_count": null,
   "source": [
    "import csv as csv\r\n",
    "\r\n",
    "\r\n",
    "while 1:\r\n",
    "    output = textFileStream.read(1)\r\n",
    "    if output:\r\n",
    "        if output in letterPath:\r\n",
    "            temp = letterPath[output]['paths']\r\n",
    "            # if no more pictures for that letter\r\n",
    "            if len(letterPath[output]['paths']) == 0:\r\n",
    "                break\r\n",
    "            filewriter.writerow([output, letterPath[output]['paths'][0]])\r\n",
    "            temp2 = letterPath[output]['paths']\r\n",
    "            letterPath[output]['paths'].pop(0)\r\n",
    "    # in case that the stream reaches end of file, goto next file\r\n",
    "    else:\r\n",
    "        if len(textFileQueue) > 0:\r\n",
    "            textFileStream = open(textPath + textFileQueue[0], 'r', encoding='utf-8')\r\n",
    "            textFileQueue.pop(0)\r\n",
    "        else:\r\n",
    "            break"
   ],
   "outputs": [
    {
     "output_type": "error",
     "ename": "NameError",
     "evalue": "name 'textFileStream' is not defined",
     "traceback": [
      "\u001b[1;31m---------------------------------------------------------------------------\u001b[0m",
      "\u001b[1;31mNameError\u001b[0m                                 Traceback (most recent call last)",
      "\u001b[1;32m~\\AppData\\Local\\Temp/ipykernel_10132/2761482317.py\u001b[0m in \u001b[0;36m<module>\u001b[1;34m\u001b[0m\n\u001b[0;32m      5\u001b[0m \u001b[0mfilewriter\u001b[0m\u001b[1;33m.\u001b[0m\u001b[0mwriterow\u001b[0m\u001b[1;33m(\u001b[0m\u001b[1;33m[\u001b[0m\u001b[1;34m'Letter'\u001b[0m\u001b[1;33m,\u001b[0m \u001b[1;34m'Path'\u001b[0m\u001b[1;33m]\u001b[0m\u001b[1;33m)\u001b[0m\u001b[1;33m\u001b[0m\u001b[1;33m\u001b[0m\u001b[0m\n\u001b[0;32m      6\u001b[0m \u001b[1;32mwhile\u001b[0m \u001b[1;36m1\u001b[0m\u001b[1;33m:\u001b[0m\u001b[1;33m\u001b[0m\u001b[1;33m\u001b[0m\u001b[0m\n\u001b[1;32m----> 7\u001b[1;33m     \u001b[0moutput\u001b[0m \u001b[1;33m=\u001b[0m \u001b[0mtextFileStream\u001b[0m\u001b[1;33m.\u001b[0m\u001b[0mread\u001b[0m\u001b[1;33m(\u001b[0m\u001b[1;36m1\u001b[0m\u001b[1;33m)\u001b[0m\u001b[1;33m\u001b[0m\u001b[1;33m\u001b[0m\u001b[0m\n\u001b[0m\u001b[0;32m      8\u001b[0m     \u001b[1;32mif\u001b[0m \u001b[0moutput\u001b[0m\u001b[1;33m:\u001b[0m\u001b[1;33m\u001b[0m\u001b[1;33m\u001b[0m\u001b[0m\n\u001b[0;32m      9\u001b[0m         \u001b[1;32mif\u001b[0m \u001b[0moutput\u001b[0m \u001b[1;32min\u001b[0m \u001b[0mletterPath\u001b[0m\u001b[1;33m:\u001b[0m\u001b[1;33m\u001b[0m\u001b[1;33m\u001b[0m\u001b[0m\n",
      "\u001b[1;31mNameError\u001b[0m: name 'textFileStream' is not defined"
     ]
    }
   ],
   "metadata": {}
  }
 ],
 "metadata": {
  "orig_nbformat": 4,
  "language_info": {
   "name": "python",
   "version": "3.7.8",
   "mimetype": "text/x-python",
   "codemirror_mode": {
    "name": "ipython",
    "version": 3
   },
   "pygments_lexer": "ipython3",
   "nbconvert_exporter": "python",
   "file_extension": ".py"
  },
  "kernelspec": {
   "name": "python3",
   "display_name": "Python 3.7.8 64-bit"
  },
  "interpreter": {
   "hash": "0600588c3b5f4418cbe7b5ebc6825b479f3bc010269d8b60d75058cdd010adfe"
  }
 },
 "nbformat": 4,
 "nbformat_minor": 2
}